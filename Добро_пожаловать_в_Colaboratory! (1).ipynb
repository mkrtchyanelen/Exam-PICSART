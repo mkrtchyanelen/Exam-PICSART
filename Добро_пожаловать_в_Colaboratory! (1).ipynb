{
  "cells": [
    {
      "cell_type": "markdown",
      "source": [
        "#1"
      ],
      "metadata": {
        "id": "7dbLoKEDH0NZ"
      }
    },
    {
      "cell_type": "code",
      "source": [
        "word_list = ['thickly', 'thirdly', 'thirsty', 'thoughtfully', 'thoroughly']\n",
        "your_word = input('Enter a word with asterisks for unknown letters: ')\n",
        "asterisk_pos = [i for i in range(len(your_word)) if your_word[i] == '*']\n",
        "\n",
        "matching = []\n",
        "for word in word_list:\n",
        "  if len(word) == len(your_word):\n",
        "    is_match = True\n",
        "    for i in asterisk_pos:\n",
        "      if your_word[:i] != word[:i] or your_word[i+1:] != word[i+1:]:\n",
        "        is_match = False\n",
        "        break\n",
        "      if is_match:\n",
        "        matching.append(word)\n",
        "\n",
        "print('Matching words: ', matching) "
      ],
      "metadata": {
        "id": "6BU1akynHzAD",
        "outputId": "dcd1c084-d660-40aa-dda0-16479a1002e9",
        "colab": {
          "base_uri": "https://localhost:8080/"
        }
      },
      "execution_count": 5,
      "outputs": [
        {
          "output_type": "stream",
          "name": "stdout",
          "text": [
            "Enter a word with asterisks for unknown letters: t*****y\n",
            "Matching words:  []\n"
          ]
        }
      ]
    },
    {
      "cell_type": "markdown",
      "source": [
        "#2"
      ],
      "metadata": {
        "id": "TZPd_7MsH_OZ"
      }
    },
    {
      "cell_type": "code",
      "source": [
        "#Word Count\n",
        "def word_count(file_name):\n",
        "  with open(file_name, 'r') as file:\n",
        "    word_count = 0\n",
        "    for line in file:\n",
        "      words = line.split()\n",
        "      word_count += len(words)\n",
        "  return word_count\n",
        "\n",
        "#Character count\n",
        "def character_count(file_name):\n",
        "  with open (file_name, 'r') as file:\n",
        "    char_count = 0\n",
        "    for line in file:\n",
        "      char_count += len(line)\n",
        "  return char_count\n",
        "\n",
        "#Line count\n",
        "def line_count(file_name):\n",
        "  with open(file_name, 'r') as file:\n",
        "    line_count = 0\n",
        "    for line in file:\n",
        "      line_count += 1\n",
        "  return line_count\n",
        "\n",
        "#Frequent words\n",
        "def frequent_words(file_name):\n",
        "  frequent = {}\n",
        "  with open(file_name, 'r') as file:\n",
        "    for line in file:\n",
        "      words = line.split()\n",
        "      for word in words:\n",
        "        if word in frequent:\n",
        "          frequent[word] += 1\n",
        "        else:\n",
        "          frequent[word] = 1\n",
        "\n",
        "  sorted_frequent = sorted(frequent.items(), key = lambda x: x[1], reverse = True)\n",
        "  return sorted_frequent[:10]\n",
        "\n",
        "#Word Search\n",
        "def word_search(file_name):\n",
        "  with open(file_name, 'r') as file:\n",
        "    line_num = 0\n",
        "    for line in file:\n",
        "      line_num += 1\n",
        "      if word in line:\n",
        "        print(f'{word} found on line {line_num}: {line.strip()}')\n",
        "\n",
        "\n",
        "file_name = input('Enter your file name: ')\n",
        "while True:\n",
        "  print('1. Word', '2. Char', '3. Line', '4. Frequent', '5. Search', sep = '/n')\n",
        "\n",
        "  choice = input('Enter yout choice: ')\n",
        "\n",
        "  if choice == 1:\n",
        "    print(f'WC: {word_count(file_name)}')\n",
        "\n"
      ],
      "metadata": {
        "id": "99BzPn_pH9Sa",
        "outputId": "db186672-4085-4427-fdb3-f58eb2d13ad8",
        "colab": {
          "base_uri": "https://localhost:8080/"
        }
      },
      "execution_count": 6,
      "outputs": [
        {
          "output_type": "stream",
          "name": "stdout",
          "text": [
            "Enter a word with asterisks for unknown letters: th***ly\n",
            "Matching words:  []\n"
          ]
        }
      ]
    },
    {
      "cell_type": "markdown",
      "source": [
        "#3"
      ],
      "metadata": {
        "id": "1bSRphfPICfu"
      }
    },
    {
      "cell_type": "code",
      "source": [
        "import random \n",
        "\n",
        "words = ['barev', 'arev', 'hello', 'bye', 'spam']\n",
        "word = random.choice(words)\n",
        "display = ['_' for i in word]\n",
        "attempts = 3\n",
        "guessed_let = []\n",
        "\n",
        "while True:\n",
        "  guess = input('Guess one letter: ')\n",
        "  if guess == 'end':\n",
        "    break\n",
        "  guess = guess.lower()\n",
        "  if guess in guessed_let:\n",
        "    print('You have already guessed this number: ')\n",
        "  guessed_let.append(guess)\n",
        "\n",
        "  if guess in word:\n",
        "    for i, letter in enumerate(word):\n",
        "      if guess == letter:\n",
        "        display[i] = guess\n",
        "        print(' '.join(display))\n",
        "    if '_' not in display:\n",
        "      print('You win the game :)')\n",
        "\n",
        "  else:\n",
        "    attempts -= 1\n",
        "    print(f'The {guess} is not in the word')\n",
        "\n",
        "    if attempts == 0:\n",
        "      print(f'You lose the game :(. The right word was {word}')"
      ],
      "metadata": {
        "id": "miSbumDlH9jh",
        "outputId": "a04abd9c-dc9b-43a2-e6cc-0c59c1e4045c",
        "colab": {
          "base_uri": "https://localhost:8080/"
        }
      },
      "execution_count": 8,
      "outputs": [
        {
          "name": "stdout",
          "output_type": "stream",
          "text": [
            "Guess one letter: l\n",
            "The l is not in the word\n",
            "Guess one letter: end\n"
          ]
        }
      ]
    },
    {
      "cell_type": "markdown",
      "source": [
        "#4"
      ],
      "metadata": {
        "id": "bPvDRqxrd13s"
      }
    },
    {
      "cell_type": "code",
      "source": [
        "import string\n",
        "\n",
        "min_lenght = 8\n",
        "all_chars = set(string.ascii_lowercase + string.ascii_uppercase + string.digits + string.punctuation)\n",
        "\n",
        "with open('dictionary.txt', 'r') as f:\n",
        "  my_words = set(word.strip().lower() for word in f.readlnes())\n",
        "\n",
        "password = input('Enter your password: ')\n",
        "if len(password) < min_lenght:\n",
        "  print('Password is too short. Must be at least 8 characters long.')\n",
        "else:\n",
        "  missing_chars = all_chars.difference(set(password))\n",
        "  if missing_chars:\n",
        "    print(f\"Password is missing required characters: {' '.join(missing_chars)}\")\n",
        "  else:\n",
        "    lower_password = password.lower()\n",
        "    if any(word in lower_password for word in my_words):\n",
        "      print('Password should not include common dictionary words or phrases.')\n",
        "    else:\n",
        "      print('Password is strong!')\n",
        "  "
      ],
      "metadata": {
        "id": "cpZOfkefIFGM",
        "outputId": "fca96920-2408-4492-febf-89a6f64a16d9",
        "colab": {
          "base_uri": "https://localhost:8080/",
          "height": 235
        }
      },
      "execution_count": 12,
      "outputs": [
        {
          "output_type": "error",
          "ename": "FileNotFoundError",
          "evalue": "ignored",
          "traceback": [
            "\u001b[0;31m---------------------------------------------------------------------------\u001b[0m",
            "\u001b[0;31mFileNotFoundError\u001b[0m                         Traceback (most recent call last)",
            "\u001b[0;32m<ipython-input-12-db0410f7bcaf>\u001b[0m in \u001b[0;36m<cell line: 6>\u001b[0;34m()\u001b[0m\n\u001b[1;32m      4\u001b[0m \u001b[0mall_chars\u001b[0m \u001b[0;34m=\u001b[0m \u001b[0mset\u001b[0m\u001b[0;34m(\u001b[0m\u001b[0mstring\u001b[0m\u001b[0;34m.\u001b[0m\u001b[0mascii_lowercase\u001b[0m \u001b[0;34m+\u001b[0m \u001b[0mstring\u001b[0m\u001b[0;34m.\u001b[0m\u001b[0mascii_uppercase\u001b[0m \u001b[0;34m+\u001b[0m \u001b[0mstring\u001b[0m\u001b[0;34m.\u001b[0m\u001b[0mdigits\u001b[0m \u001b[0;34m+\u001b[0m \u001b[0mstring\u001b[0m\u001b[0;34m.\u001b[0m\u001b[0mpunctuation\u001b[0m\u001b[0;34m)\u001b[0m\u001b[0;34m\u001b[0m\u001b[0;34m\u001b[0m\u001b[0m\n\u001b[1;32m      5\u001b[0m \u001b[0;34m\u001b[0m\u001b[0m\n\u001b[0;32m----> 6\u001b[0;31m \u001b[0;32mwith\u001b[0m \u001b[0mopen\u001b[0m\u001b[0;34m(\u001b[0m\u001b[0;34m'dictionary.txt'\u001b[0m\u001b[0;34m,\u001b[0m \u001b[0;34m'r'\u001b[0m\u001b[0;34m)\u001b[0m \u001b[0;32mas\u001b[0m \u001b[0mf\u001b[0m\u001b[0;34m:\u001b[0m\u001b[0;34m\u001b[0m\u001b[0;34m\u001b[0m\u001b[0m\n\u001b[0m\u001b[1;32m      7\u001b[0m   \u001b[0mmy_words\u001b[0m \u001b[0;34m=\u001b[0m \u001b[0mset\u001b[0m\u001b[0;34m(\u001b[0m\u001b[0mword\u001b[0m\u001b[0;34m.\u001b[0m\u001b[0mstrip\u001b[0m\u001b[0;34m(\u001b[0m\u001b[0;34m)\u001b[0m\u001b[0;34m.\u001b[0m\u001b[0mlower\u001b[0m\u001b[0;34m(\u001b[0m\u001b[0;34m)\u001b[0m \u001b[0;32mfor\u001b[0m \u001b[0mword\u001b[0m \u001b[0;32min\u001b[0m \u001b[0mf\u001b[0m\u001b[0;34m.\u001b[0m\u001b[0mreadlnes\u001b[0m\u001b[0;34m(\u001b[0m\u001b[0;34m)\u001b[0m\u001b[0;34m)\u001b[0m\u001b[0;34m\u001b[0m\u001b[0;34m\u001b[0m\u001b[0m\n\u001b[1;32m      8\u001b[0m \u001b[0;34m\u001b[0m\u001b[0m\n",
            "\u001b[0;31mFileNotFoundError\u001b[0m: [Errno 2] No such file or directory: 'dictionary.txt'"
          ]
        }
      ]
    },
    {
      "cell_type": "markdown",
      "source": [
        "#5"
      ],
      "metadata": {
        "id": "sxJJeGSPnGVk"
      }
    },
    {
      "cell_type": "code",
      "source": [],
      "metadata": {
        "id": "Hu_QIJeBlZU2"
      },
      "execution_count": null,
      "outputs": []
    },
    {
      "cell_type": "markdown",
      "source": [
        "#6"
      ],
      "metadata": {
        "id": "dGY-OXpSnJzO"
      }
    },
    {
      "cell_type": "code",
      "source": [
        "import random\n",
        "\n",
        "def generate_words(acronym, wordlist):\n",
        "  words = []\n",
        "  for letter in acronym:\n",
        "    matching_words = [word for word in wordlist if word.startswith(letter)]\n",
        "    if matching_words:\n",
        "      word = random.choice(matching_words)\n",
        "    else:\n",
        "      word = 'no match'\n",
        "    words.append(word)\n",
        "  return words\n",
        "\n",
        "# with open('wordlist.txt', 'r') as f:\n",
        "#   wordlist = [line.strip() for line in f]\n",
        "wordlist = ['barev', 'arev', 'garik']\n",
        "\n",
        "acronym = input('Enter your acronym: ').lower()\n",
        "\n",
        "words = generate_words(acronym, wordlist)\n",
        "\n",
        "print(acronym.upper(), words)\n",
        "\n",
        "\n",
        "\n"
      ],
      "metadata": {
        "id": "rIINPk63nI6N",
        "outputId": "1071d158-7434-4480-e12d-8d3c98338c8d",
        "colab": {
          "base_uri": "https://localhost:8080/"
        }
      },
      "execution_count": 20,
      "outputs": [
        {
          "output_type": "stream",
          "name": "stdout",
          "text": [
            "Enter your acronym: AG\n",
            "AG ['arev', 'garik']\n"
          ]
        }
      ]
    },
    {
      "cell_type": "markdown",
      "source": [
        "#7"
      ],
      "metadata": {
        "id": "czYae6T8vIlv"
      }
    },
    {
      "cell_type": "code",
      "source": [
        "# with open('namelist.txt', 'r') as f:\n",
        "#   names = f.readlines()\n",
        "names = ['Ace Elvin Coulson', 'elan']\n",
        "\n",
        "def contains_vowels_in_order(name):\n",
        "  vowels = 'aeiou'\n",
        "  vowel = 'a'\n",
        "  for letter in name:\n",
        "    if letter in vowels:\n",
        "      if letter < vowel:\n",
        "        return False\n",
        "      vowel = letter\n",
        "      if vowel == 'u':\n",
        "        break\n",
        "  return True\n",
        "\n",
        "for name in names:\n",
        "  if contains_vowels_in_order(name.lower()):\n",
        "    print(name.strip())\n"
      ],
      "metadata": {
        "id": "EMyX1U93tfFD",
        "outputId": "b76f8464-667d-4969-84e5-f1b1dfe915cb",
        "colab": {
          "base_uri": "https://localhost:8080/"
        }
      },
      "execution_count": 22,
      "outputs": [
        {
          "output_type": "stream",
          "name": "stdout",
          "text": [
            "Ace Elvin Coulson\n"
          ]
        }
      ]
    },
    {
      "cell_type": "markdown",
      "source": [
        "#8"
      ],
      "metadata": {
        "id": "W02cDiDuxZ_7"
      }
    },
    {
      "cell_type": "code",
      "source": [
        "# input_file = input('Enter the name of the input file: ')\n",
        "# output_file = input('Enter the name of the output file: ')\n",
        "\n",
        "# with open(input_file, 'r') as f:\n",
        "#   text = f.read()\n",
        "text = 'aaaabbbbxxxxxx'\n",
        "compressed_text = ''\n",
        "char = text[0]\n",
        "count = 1\n",
        "for i in range(1, len(text)):\n",
        "  if text[i] == char:\n",
        "    count += 1\n",
        "  else:\n",
        "    compressed_text += char + str(count)\n",
        "    char = text[i]\n",
        "    count = 1\n",
        "compressed_text += char + str(count)\n",
        "print(compressed_text)\n",
        "\n",
        "# with open(output_file, 'w') as f:\n",
        "#   f.write(compressed_text)\n"
      ],
      "metadata": {
        "id": "NPeSNAcqxEqD",
        "outputId": "853a4466-7b77-46ca-b606-f4241aada327",
        "colab": {
          "base_uri": "https://localhost:8080/"
        }
      },
      "execution_count": 24,
      "outputs": [
        {
          "output_type": "stream",
          "name": "stdout",
          "text": [
            "a4b4x6\n"
          ]
        }
      ]
    },
    {
      "cell_type": "code",
      "source": [
        "from contextlib import ContextDecorator\n",
        "#Reading\n",
        "def read_contacts():\n",
        "  with open('contact.txt', 'r') as f:\n",
        "    return[line.strip().split(',') for line in f]\n",
        "\n",
        "#Writing\n",
        "def write_contacts(contacts):\n",
        "  with open('contact.txt', 'w') as f:\n",
        "    for contact in contacts:\n",
        "      f.write(','.join(contact) + '\\n')\n",
        "\n",
        "#Adding\n",
        "def add_contact():\n",
        "  name = input('Enter name: ')\n",
        "  surname = input('Enter surname: ')\n",
        "  phone = input('Enter phone: ')\n",
        "  address = input('Enter address')\n",
        "  contacts = read_contacts()\n",
        "  contacts.append([name, surname, phone, address])\n",
        "  wtrite_contacts(contacts)\n",
        "  print('Contact is added successfully.')\n",
        "\n",
        "\n",
        "#Editing\n",
        "def edit_contact():\n",
        "  name = input('Enter editing name: ')\n",
        "  contacts = read.contacts()\n",
        "  for contact in contacts:\n",
        "    if contact[0] == name:\n",
        "      surname = input('Enter new one (leave blank to keep existing): ')\n",
        "      phone = input('new: ')\n",
        "      address = input('new: ')\n",
        "      contact[1] = surname if surname else contact[1]\n",
        "      contact[2] = phone if phone else contact[2]\n",
        "      contact[3] = address if address else contact[3]\n",
        "      write_contacts(contacts)\n",
        "      print('Contact id edited successfully.')\n",
        "      return\n",
        "    print('Contact not found.')\n",
        "\n",
        "#Removing\n",
        "def remove_contact():\n",
        "  name = input('Enter name to remove: ')\n",
        "  contacts = read_contacts()\n",
        "  new_contacts = [c for c in contacts if c[0] != name]\n",
        "  if len(new_contacts) == len(contacts):\n",
        "    print('Contact does not found')\n",
        "  else:\n",
        "    write_contacts(new_contacts)\n",
        "    print('Removing is done successfully.')\n",
        "\n",
        "while True:\n",
        "  print('1.Add', '2.Edit', '3.Remove', '4. End', sep = '\\n')\n",
        "  choice = input('Enter your choice: ')\n",
        "  if choice == '1':\n",
        "    add_contact()\n",
        "  elif choice == '2':\n",
        "    edit_contact()\n",
        "  elif choice == '3':\n",
        "    remove_contact()\n",
        "  elif choice == '4':\n",
        "    break\n",
        "  else:\n",
        "    print('Invalid choice. Try again.')\n"
      ],
      "metadata": {
        "id": "kNoSxNZf0EEb"
      },
      "execution_count": null,
      "outputs": []
    },
    {
      "cell_type": "markdown",
      "source": [
        "#10"
      ],
      "metadata": {
        "id": "8BSwGQpaqRgE"
      }
    },
    {
      "cell_type": "code",
      "source": [
        "import json\n",
        "\n",
        "def update_json_file(file_name, update_cmd):\n",
        "  with open('file_name', 'r') as f:\n",
        "    data = json.load(f)\n",
        "\n",
        "  keys, value = update_cmd.split('=')\n",
        "  keys = keys.split('.')\n",
        "  d = data\n",
        "  for key in keys[:-1]:\n",
        "    d = d[key]\n",
        "\n",
        "  d[keys[-1]] = value\n",
        "\n",
        "  with open('file_name', 'w') as f:\n",
        "    json.dump(data, f, intend = 4)\n",
        "\n",
        "#for excample\n",
        "update_json_file('excample.json', 'name=Johny')"
      ],
      "metadata": {
        "id": "d1NgZsZJqQGX"
      },
      "execution_count": null,
      "outputs": []
    },
    {
      "cell_type": "markdown",
      "source": [
        "#11"
      ],
      "metadata": {
        "id": "V3T8aZ2EviEZ"
      }
    },
    {
      "cell_type": "code",
      "source": [
        "from IPython.core.interactiveshell import ultratb\n",
        "#Data validator\n",
        "\n",
        "def valid_email(email):\n",
        "  if '@' not in email:\n",
        "    return False\n",
        "  parts = email.split('@')\n",
        "  if '.' not in parts[1]:\n",
        "    return False\n",
        "  return True\n",
        "\n",
        "def valid_website(url):\n",
        "  if 'http://' in url or 'https://' in url:\n",
        "    url = url.replace('http://', '').replace('https://', '')\n",
        "  if '.' not in url:\n",
        "      return False\n",
        "  return True\n",
        "\n",
        "def valid_date(date):\n",
        "  parts = date.split('/')\n",
        "  if len(parts) != 3:\n",
        "    return False\n",
        "  day, month, year = parts\n",
        "  if not(day.isdigit() and month.isdigit() and year.isdigit()):\n",
        "    return False\n",
        "  if int(month) < 1 and int(month) > 12:\n",
        "    return False\n",
        "  if int(day) < 1 or int(day) > 31:\n",
        "    return False\n",
        "  return True\n",
        "\n",
        "def valid_number(number):\n",
        "  if not number.isdigit():\n",
        "    return False\n",
        "  return True\n",
        "\n",
        "def valid_card_number(card_number):\n",
        "  if not card_number.isdigit():\n",
        "    return False\n",
        "  if len(card_number) != 16:\n",
        "    return False\n",
        "  return True\n",
        "\n",
        "def valid_phone_number(phone_number):\n",
        "  if not phone_number.isdigit():\n",
        "    return False\n",
        "  if len(phone_number) != 9:\n",
        "    return False\n",
        "  return True\n",
        "\n",
        "data_type = input('Enter data type: ')\n",
        "data = input('Enter data: ')\n",
        "\n",
        "if data_type == 'email':\n",
        "  if valid_email(data):\n",
        "    print('Is valid')\n",
        "  else:\n",
        "    print('Not valid')\n",
        "elif data_type == 'URL':\n",
        "  if valid_website(data):\n",
        "    print('Is valid')\n",
        "  else:\n",
        "    print('Not valid')\n",
        "elif data_type == 'date':\n",
        "  if valid_date(data):\n",
        "    print('Is valid')\n",
        "  else:\n",
        "    print('Not valid')\n",
        "elif data_type == 'number':\n",
        "  if valid_number(data):\n",
        "    print('Is valid')\n",
        "  else:\n",
        "    print('Not valid')\n",
        "elif data_type == 'credit card':\n",
        "  if valid_card_number(data):\n",
        "    print('Is valid')\n",
        "  else:\n",
        "    print('Not valid')\n",
        "elif data_type == 'phone':\n",
        "  if valid_phone_number(data):\n",
        "    print('Is valid')\n",
        "  else:\n",
        "    print('Not valid')\n",
        "else:\n",
        "  print('Invalid data type')"
      ],
      "metadata": {
        "id": "Tnamz-uUvgtq",
        "outputId": "029a4dda-fb28-4857-f487-1cec93aefda0",
        "colab": {
          "base_uri": "https://localhost:8080/"
        }
      },
      "execution_count": 1,
      "outputs": [
        {
          "output_type": "stream",
          "name": "stdout",
          "text": [
            "Enter data type: email\n",
            "Enter data: elenmk2003@gmail.com\n",
            "Is valid\n"
          ]
        }
      ]
    },
    {
      "cell_type": "markdown",
      "source": [
        "#12"
      ],
      "metadata": {
        "id": "uhV8R2Rn-kRC"
      }
    },
    {
      "cell_type": "code",
      "source": [],
      "metadata": {
        "id": "RuCmiXzs91Vh"
      },
      "execution_count": null,
      "outputs": []
    },
    {
      "cell_type": "markdown",
      "source": [
        "#13"
      ],
      "metadata": {
        "id": "-NQ7u1Nartlt"
      }
    },
    {
      "cell_type": "code",
      "source": [
        "#library managment\n",
        "\n",
        "book_collection = []\n",
        "\n",
        "def add_book():\n",
        "  author_name = input('Enter name: ')\n",
        "  book_name = input('Enter book name: ')\n",
        "  pub_date = input('Enter pub date: ')\n",
        "  book = {\n",
        "      'author': author_name, 'book': book_name, 'Date': pub_date\n",
        "  }\n",
        "  book_collection.append(book)\n",
        "  save_books()\n",
        "  print('Added successfully.')\n",
        "\n",
        "def remove_book():\n",
        "  book_name = input('Enter book name: ')\n",
        "  for book in book_collection:\n",
        "    if book['book'] == book_name:\n",
        "      book_collection.remove(book)\n",
        "      save_books()\n",
        "      print('Removed successfully.')\n",
        "      return\n",
        "  prin('Book not found.')\n",
        "\n",
        "def view_books():\n",
        "  if len(book_collection) == 0:\n",
        "    print('Collection is empty.')\n",
        "  else:\n",
        "    for book in book_collection:\n",
        "      print(f'{book['name']} by {book['author']} ({book['Date']})')\n",
        "\n",
        "def sort_books():\n",
        "  sorted_books = sorted(book_collectin, key = lambda k: k['name'])\n",
        "  for book in sorted_books:\n",
        "    print(f'{book['name']} by {book['author']} ({book['Date']})')\n",
        "\n",
        "def save_books():\n",
        "  with open('book_collection.txt', 'w') as f:\n",
        "    for book in book_collection:\n",
        "      f.write(f'{book['name']} by {book['author']} ({book['Date']})')"
      ],
      "metadata": {
        "id": "05oswcJortCq"
      },
      "execution_count": null,
      "outputs": []
    },
    {
      "cell_type": "markdown",
      "source": [
        "#14"
      ],
      "metadata": {
        "id": "aujgAcQRxB4n"
      }
    },
    {
      "cell_type": "code",
      "source": [
        "#ToDO list\n",
        "\n",
        "todo_file = 'my_tasks.txt'\n",
        "\n",
        "def add_task():\n",
        "  task = input('Enter your task: ')\n",
        "  with open(todo_file, 'a') as f:\n",
        "    f.write(f'{task}\\n')\n",
        "  print('Added successfully')\n",
        "\n",
        "def view_tasks():\n",
        "  try:\n",
        "    with open(todo_file, 'r') as f:\n",
        "      tasks = f.readlines()\n",
        "      if tasks:\n",
        "        print('Your tasks.')\n",
        "        \n",
        "\n"
      ],
      "metadata": {
        "id": "QAMzpPcWw_U7"
      },
      "execution_count": null,
      "outputs": []
    },
    {
      "cell_type": "markdown",
      "source": [
        "#15"
      ],
      "metadata": {
        "id": "1LfnNu_0y7NA"
      }
    },
    {
      "cell_type": "code",
      "source": [
        "def digital_root(n):\n",
        "  while n > 9:\n",
        "    n = sum(int(digit) for digit in str(n))\n",
        "  return n\n",
        "\n",
        "digital_root(45678)"
      ],
      "metadata": {
        "id": "bEGLcpajy5fR",
        "outputId": "77bdc7c4-49f7-47eb-e9ed-cac7c31e039e",
        "colab": {
          "base_uri": "https://localhost:8080/"
        }
      },
      "execution_count": 1,
      "outputs": [
        {
          "output_type": "execute_result",
          "data": {
            "text/plain": [
              "3"
            ]
          },
          "metadata": {},
          "execution_count": 1
        }
      ]
    },
    {
      "cell_type": "markdown",
      "source": [
        "#16"
      ],
      "metadata": {
        "id": "gZo97VuY0XP2"
      }
    },
    {
      "cell_type": "code",
      "source": [
        "#Sudoku\n",
        "def is_sudoku(sudoku):\n",
        "  for row in sudoku:\n",
        "    if len(set(row)) != 9:\n",
        "      return False\n",
        "\n",
        "  for col in range(9):\n",
        "    if len(set(sudoku[row][col] for row in range(9))) != 9:\n",
        "      return False\n",
        "\n",
        "  for block_row in range(3):\n",
        "    for block_col in range(3):\n",
        "      block = [sudoku[row][col] for row in range(block_row * 3, block_row * 3 + 3) for col in range(block_col * 3, block_col * 3 + 3)]\n",
        "      if len(set(block)) != 9:\n",
        "        return False\n",
        "\n",
        "  return True"
      ],
      "metadata": {
        "id": "yekpA2xWz2ne"
      },
      "execution_count": 2,
      "outputs": []
    },
    {
      "cell_type": "code",
      "source": [
        "sudoku = [\n",
        "    [5, 3, 4, 6, 7, 8, 9, 1, 2],\n",
        "    [6, 7, 2, 1, 9, 5, 3, 4, 8],\n",
        "    [1, 9, 8, 3, 4, 2, 5, 6, 7],\n",
        "    [8, 5, 9, 7, 6, 1, 4, 2, 3],\n",
        "    [4, 2, 6, 8, 5, 3, 7, 9, 1],\n",
        "    [7, 1, 3, 9, 2, 4, 8, 5, 6],\n",
        "    [9, 6, 1, 5, 3, 7, 2, 8, 4],\n",
        "    [2, 8, 7, 4, 1, 9, 6, 3, 5],\n",
        "    [3, 4, 5, 2, 8, 6, 1, 7, 9],\n",
        "]\n",
        "print(is_sudoku(sudoku))"
      ],
      "metadata": {
        "id": "OotT14Kn20KN",
        "outputId": "c2bf3420-679c-4654-a4fd-935aa7304463",
        "colab": {
          "base_uri": "https://localhost:8080/"
        }
      },
      "execution_count": 3,
      "outputs": [
        {
          "output_type": "stream",
          "name": "stdout",
          "text": [
            "True\n"
          ]
        }
      ]
    },
    {
      "cell_type": "markdown",
      "source": [
        "#17"
      ],
      "metadata": {
        "id": "yhD1BGJn3frJ"
      }
    },
    {
      "cell_type": "code",
      "source": [
        "with open('students.txt', 'r') as f_in:\n",
        "  with open('students2.txt', 'w') as f_out:\n",
        "    for line in f_in:\n",
        "      parts = line.strip().split('\\t')\n",
        "      first_name = parts[0].capitalize()\n",
        "      last_name = parts[1].capitalize()\n",
        "      email = parts[2]\n",
        "      phone = '301-' + parts[3]\n",
        "      modified_line = f'{first_name} {last_name}\\t{email}\\t{phone}\\n'\n",
        "      f_out.write(modified_line)"
      ],
      "metadata": {
        "id": "z1W1Rmpk2_c6"
      },
      "execution_count": null,
      "outputs": []
    }
  ],
  "metadata": {
    "colab": {
      "name": "Добро пожаловать в Colaboratory!",
      "provenance": []
    },
    "kernelspec": {
      "display_name": "Python 3",
      "name": "python3"
    }
  },
  "nbformat": 4,
  "nbformat_minor": 0
}